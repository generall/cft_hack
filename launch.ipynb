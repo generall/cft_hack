{
 "cells": [
  {
   "cell_type": "code",
   "execution_count": 3,
   "metadata": {},
   "outputs": [
    {
     "name": "stdout",
     "output_type": "stream",
     "text": [
      "Epochs 1/100:   0%|                       | 13/1000000 [288:20:21, loss=0.27005]^C\n"
     ]
    }
   ],
   "source": [
    "!python train.py --train-data ./data/train_ru.csv\\\n",
    "                 --valid-data ./data/valid_ru.csv\\\n",
    "                 --epoch 100\\\n",
    "                 --save-every 1\\\n",
    "                 --batch-size 100\\\n",
    "                 --cuda 0\\\n",
    "                 --parallel 0\\\n",
    "                 --patience 10\\\n",
    "                 --run 'test run'\\\n",
    "                 --lr 0.001\\\n",
    "                 --dropout 0.1"
   ]
  },
  {
   "cell_type": "code",
   "execution_count": 1,
   "metadata": {},
   "outputs": [
    {
     "name": "stdout",
     "output_type": "stream",
     "text": [
      "id,fullname,country,target,fullname_true\n",
      "1,ФОЗИЛОВ РАМИЛЬ ГУЛЛОВИЧ,РОССИЯ,1,ФОЗИЛОВ РАМИЛЬ ГУЛОВИЧ\n",
      "2,ГОИБОВ АХЛИДДИН ШАМСУДИНОВИЧ,РОССИЯ,0,\n",
      "3,ХУСНЕУТДИНОВА МАРГАРИТА ФАХИМОВНА,РОССИЯ,1,ХУСНУТДИНОВА МАРГАРИТА ФАХИМОВНА\n",
      "4,НОВОКШОНОВА ИННА ВЛАДИМИРОВНА,РОССИЯ,0,\n",
      "5,МЕДЕТБЕК КЫЗЫ МАПАБАТ,КЫРГЫЗСТАН,1,МЕДЕТБЕК КЫЗЫ МАХАБАТ\n",
      "6,ЖУМАЕВ ОРИФ ХОЛМАТОВИЧ,РОССИЯ,0,\n",
      "7,ТИРКАШЕПВ МАШРАБ УСМОНОВИЧ,РОССИЯ,1,ТИРКАШЕВ МАШРАБ УСМОНОВИЧ\n",
      "8,НАЛТАКЯН ГАМЬЛЕТ АЛЬБЕРТОВИЧ,RUS,1,НАЛТАКЯН ГАМЛЕТ АЛЬБЕРТОВИЧ\n",
      "9,ГНИГОРЯН АННА ЛЕОНИДОВНА,РОССИЯ,1,ГРИГОРЯН АННА ЛЕОНИДОВНА\n"
     ]
    }
   ],
   "source": [
    "!head ./data/train_ru.csv"
   ]
  },
  {
   "cell_type": "code",
   "execution_count": null,
   "metadata": {},
   "outputs": [],
   "source": []
  }
 ],
 "metadata": {
  "kernelspec": {
   "display_name": "Python 3",
   "language": "python",
   "name": "python3"
  },
  "language_info": {
   "codemirror_mode": {
    "name": "ipython",
    "version": 3
   },
   "file_extension": ".py",
   "mimetype": "text/x-python",
   "name": "python",
   "nbconvert_exporter": "python",
   "pygments_lexer": "ipython3",
   "version": "3.6.4"
  }
 },
 "nbformat": 4,
 "nbformat_minor": 2
}

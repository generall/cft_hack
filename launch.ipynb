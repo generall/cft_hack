{
 "cells": [
  {
   "cell_type": "code",
   "execution_count": 13,
   "metadata": {},
   "outputs": [
    {
     "name": "stdout",
     "output_type": "stream",
     "text": [
      "Epochs 1/100:   0%|                                              | 0/1000000 [?](10, 35)\n",
      "Traceback (most recent call last):\n",
      "  File \"train.py\", line 102, in <module>\n",
      "    learner.train(args.epoch, metrics, train_loader, valid_loader, callbacks=callbacks)\n",
      "  File \"/home/generall/anaconda3/lib/python3.6/site-packages/torchlite/torch/learner/__init__.py\", line 140, in train\n",
      "    self._run_epoch(train_loader, valid_loader, metrics, callback_list)\n",
      "  File \"/home/generall/anaconda3/lib/python3.6/site-packages/torchlite/torch/learner/__init__.py\", line 89, in _run_epoch\n",
      "    train_logs = self._run_batch(step, train_loader, metric_list, callback_list)\n",
      "  File \"/home/generall/anaconda3/lib/python3.6/site-packages/torchlite/torch/learner/__init__.py\", line 70, in _run_batch\n",
      "    metrics_list.acc_batch(step, logits, targets)\n",
      "  File \"/home/generall/anaconda3/lib/python3.6/site-packages/torchlite/torch/metrics/__init__.py\", line 43, in acc_batch\n",
      "    result = metric(logits, targets)\n",
      "  File \"train.py\", line 74, in __call__\n",
      "    errors = np.sum(np.abs(y_pred - y_true), axis=1)\n",
      "ValueError: operands could not be broadcast together with shapes (10,80) (10,35) \n",
      "\n"
     ]
    }
   ],
   "source": [
    "!python train.py --train-data ./data/train_ru.csv\\\n",
    "                 --valid-data ./data/valid_ru.csv\\\n",
    "                 --epoch 100\\\n",
    "                 --save-every 1\\\n",
    "                 --batch-size 10\\\n",
    "                 --cuda 0\\\n",
    "                 --parallel 0\\\n",
    "                 --patience 10\\\n",
    "                 --run 'test run'\\\n",
    "                 --lr 0.001\\\n",
    "                 --dropout 0.1"
   ]
  },
  {
   "cell_type": "code",
   "execution_count": null,
   "metadata": {},
   "outputs": [],
   "source": []
  }
 ],
 "metadata": {
  "kernelspec": {
   "display_name": "Python 3",
   "language": "python",
   "name": "python3"
  },
  "language_info": {
   "codemirror_mode": {
    "name": "ipython",
    "version": 3
   },
   "file_extension": ".py",
   "mimetype": "text/x-python",
   "name": "python",
   "nbconvert_exporter": "python",
   "pygments_lexer": "ipython3",
   "version": "3.6.4"
  }
 },
 "nbformat": 4,
 "nbformat_minor": 2
}

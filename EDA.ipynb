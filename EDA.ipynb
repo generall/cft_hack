{
 "cells": [
  {
   "cell_type": "code",
   "execution_count": 1,
   "metadata": {},
   "outputs": [],
   "source": [
    "import pandas as pd\n",
    "import Levenshtein"
   ]
  },
  {
   "cell_type": "code",
   "execution_count": 2,
   "metadata": {},
   "outputs": [],
   "source": [
    "from collections import Counter"
   ]
  },
  {
   "cell_type": "code",
   "execution_count": 3,
   "metadata": {},
   "outputs": [
    {
     "name": "stdout",
     "output_type": "stream",
     "text": [
      "Requirement already satisfied: transliterate in /home/generall/anaconda3/lib/python3.6/site-packages (1.10.2)\n",
      "Requirement already satisfied: six>=1.1.0 in /home/generall/anaconda3/lib/python3.6/site-packages (from transliterate) (1.11.0)\n",
      "\u001b[33mYou are using pip version 18.0, however version 18.1 is available.\n",
      "You should consider upgrading via the 'pip install --upgrade pip' command.\u001b[0m\n"
     ]
    }
   ],
   "source": [
    "!pip install transliterate"
   ]
  },
  {
   "cell_type": "code",
   "execution_count": 4,
   "metadata": {},
   "outputs": [
    {
     "name": "stdout",
     "output_type": "stream",
     "text": [
      "Requirement already satisfied: cyrtranslit in /home/generall/anaconda3/lib/python3.6/site-packages (0.4)\n",
      "\u001b[33mYou are using pip version 18.0, however version 18.1 is available.\n",
      "You should consider upgrading via the 'pip install --upgrade pip' command.\u001b[0m\n"
     ]
    }
   ],
   "source": [
    "!pip install cyrtranslit"
   ]
  },
  {
   "cell_type": "code",
   "execution_count": 5,
   "metadata": {},
   "outputs": [],
   "source": [
    "import transliterate\n",
    "import cyrtranslit"
   ]
  },
  {
   "cell_type": "code",
   "execution_count": 6,
   "metadata": {},
   "outputs": [
    {
     "name": "stdout",
     "output_type": "stream",
     "text": [
      "shuf: write error: Broken pipe\n",
      "shuf: write error\n"
     ]
    }
   ],
   "source": [
    "!cat ./train.csv | shuf | head -n 50000 > sample.csv"
   ]
  },
  {
   "cell_type": "code",
   "execution_count": 7,
   "metadata": {},
   "outputs": [
    {
     "name": "stdout",
     "output_type": "stream",
     "text": [
      "id,fullname,country,target,fullname_true\n",
      "0,AKHMEDOV YGURIY,РОССИЯ,1,AKHMEDOV YURIY\n",
      "1,ФОЗИЛОВ РАМИЛЬ ГУЛЛОВИЧ,РОССИЯ,1,ФОЗИЛОВ РАМИЛЬ ГУЛОВИЧ\n"
     ]
    }
   ],
   "source": [
    "!head -n 3 train.csv"
   ]
  },
  {
   "cell_type": "code",
   "execution_count": 8,
   "metadata": {},
   "outputs": [],
   "source": [
    "df_sample = pd.read_csv('./sample.csv', header=None, names=['id','fullname','country','target','fullname_true'])"
   ]
  },
  {
   "cell_type": "code",
   "execution_count": 9,
   "metadata": {},
   "outputs": [],
   "source": [
    "freqs = dict(Counter(\"\".join(df_sample.fullname_true.fillna(\"\").tolist())))"
   ]
  },
  {
   "cell_type": "code",
   "execution_count": 10,
   "metadata": {},
   "outputs": [],
   "source": [
    "total = sum(freqs.values())"
   ]
  },
  {
   "cell_type": "code",
   "execution_count": 11,
   "metadata": {},
   "outputs": [],
   "source": [
    "for char in freqs:\n",
    "    freqs[char] /= total"
   ]
  },
  {
   "cell_type": "code",
   "execution_count": null,
   "metadata": {},
   "outputs": [],
   "source": []
  },
  {
   "cell_type": "code",
   "execution_count": 12,
   "metadata": {},
   "outputs": [],
   "source": [
    "df_corrections = df_sample[df_sample.target == 1].copy()"
   ]
  },
  {
   "cell_type": "code",
   "execution_count": 13,
   "metadata": {},
   "outputs": [],
   "source": [
    "#df_corrections.country.value_counts()"
   ]
  },
  {
   "cell_type": "code",
   "execution_count": 14,
   "metadata": {},
   "outputs": [],
   "source": [
    "df_corrections['distance'] = df_corrections.apply(lambda x: Levenshtein.distance(x.fullname, x.fullname_true), axis=1)"
   ]
  },
  {
   "cell_type": "code",
   "execution_count": 15,
   "metadata": {},
   "outputs": [
    {
     "data": {
      "text/plain": [
       "1    22139\n",
       "2     3109\n",
       "3      197\n",
       "4        5\n",
       "5        1\n",
       "Name: distance, dtype: int64"
      ]
     },
     "execution_count": 15,
     "metadata": {},
     "output_type": "execute_result"
    }
   ],
   "source": [
    "df_corrections.distance.value_counts()"
   ]
  },
  {
   "cell_type": "code",
   "execution_count": 16,
   "metadata": {},
   "outputs": [
    {
     "data": {
      "text/plain": [
       "[('replace', 4, 4), ('replace', 5, 5), ('insert', 8, 8)]"
      ]
     },
     "execution_count": 16,
     "metadata": {},
     "output_type": "execute_result"
    }
   ],
   "source": [
    "Levenshtein.editops('MANAYSANEDGAR', 'MANASYAN EDGAR')"
   ]
  },
  {
   "cell_type": "code",
   "execution_count": 17,
   "metadata": {},
   "outputs": [],
   "source": [
    "df_single_correction = df_corrections[df_corrections.distance == 1].copy()"
   ]
  },
  {
   "cell_type": "code",
   "execution_count": 18,
   "metadata": {},
   "outputs": [],
   "source": [
    "df_single_correction['edit_op'] = df_single_correction.apply(lambda x: Levenshtein.editops(x.fullname, x.fullname_true)[0], axis=1)"
   ]
  },
  {
   "cell_type": "code",
   "execution_count": 19,
   "metadata": {},
   "outputs": [],
   "source": [
    "df_replace = df_single_correction[df_single_correction.edit_op.apply(lambda x: x[0]) == 'replace'].copy()"
   ]
  },
  {
   "cell_type": "code",
   "execution_count": 20,
   "metadata": {},
   "outputs": [],
   "source": [
    "df_replace[\"from_char\"] = df_replace.apply(lambda x: x.fullname[x.edit_op[1]], axis=1)\n",
    "df_replace[\"to_char\"] = df_replace.apply(lambda x: x.fullname_true[x.edit_op[2]], axis=1)"
   ]
  },
  {
   "cell_type": "code",
   "execution_count": 21,
   "metadata": {},
   "outputs": [],
   "source": [
    "df_replace['replace'] = df_replace.from_char + \"->\" + df_replace.to_char"
   ]
  },
  {
   "cell_type": "code",
   "execution_count": 22,
   "metadata": {},
   "outputs": [
    {
     "data": {
      "text/plain": [
       "'ИСПАРЫАН НОРИМ ХУРЕНОВИЦХ'"
      ]
     },
     "execution_count": 22,
     "metadata": {},
     "output_type": "execute_result"
    }
   ],
   "source": [
    "transliterate.translit('ISPARYAN NORIM HURENOVICH', 'ru', reversed=False)"
   ]
  },
  {
   "cell_type": "code",
   "execution_count": 23,
   "metadata": {},
   "outputs": [
    {
     "data": {
      "text/plain": [
       "'ИСПАРЫАН НОРИК ХУРЕНОВИЦХ'"
      ]
     },
     "execution_count": 23,
     "metadata": {},
     "output_type": "execute_result"
    }
   ],
   "source": [
    "transliterate.translit('ISPARYAN NORIK HURENOVICH', 'ru', reversed=False)"
   ]
  },
  {
   "cell_type": "code",
   "execution_count": 36,
   "metadata": {},
   "outputs": [
    {
     "name": "stdout",
     "output_type": "stream",
     "text": [
      "Pandas(Index=1904, id=653369, fullname='ЭРГЕШБАЕВНУРАЙЫМ ТОКТОНАЗАРОВНА', country='КЫРГЫЗСТАН', target=1, fullname_true='ЭРГЕШБАЕВА НУРАЙЫМ ТОКТОНАЗАРОВНА', distance=2) [('insert', 9, 9), ('insert', 9, 10)]\n",
      "Pandas(Index=7751, id=1857831, fullname='ГОДОВАНЮК А', country='РОССИЯ', target=1, fullname_true='ГОДОВАНЮК АНА', distance=2) [('insert', 11, 11), ('insert', 11, 12)]\n",
      "Pandas(Index=26525, id=1493504, fullname='МАМАТОВАВИЛЬ ОРОЗБЕКОВИЧ', country='РОССИЯ', target=1, fullname_true='МАМАТОВ РАВИЛЬ ОРОЗБЕКОВИЧ', distance=2) [('insert', 7, 7), ('insert', 7, 8)]\n",
      "Pandas(Index=35631, id=379643, fullname='ДУЙШАЕАШУРАЛИ КУШАНОВИЧ', country='РОССИЯ', target=1, fullname_true='ДУЙШАЕВ АШУРАЛИ КУШАНОВИЧ', distance=2) [('insert', 6, 6), ('insert', 6, 7)]\n",
      "Pandas(Index=38957, id=937787, fullname='ТАЛЕКСЕЙ ИННОКЕНТЬЕВИЧ', country='РОССИЯ', target=1, fullname_true='ТЁ АЛЕКСЕЙ ИННОКЕНТЬЕВИЧ', distance=2) [('insert', 1, 1), ('insert', 1, 2)]\n",
      "Pandas(Index=49086, id=268695, fullname='РУЗИЕВАЙДАР АЛИМБОЕВИЧ', country='РОССИЯ', target=1, fullname_true='РУЗИЕВ ХАЙДАР АЛИМБОЕВИЧ', distance=2) [('insert', 6, 6), ('insert', 6, 7)]\n",
      "Pandas(Index=49218, id=1837501, fullname='ХОЛОВ АБДУАЛЙОБИЛЧОНОВИЧ', country='РОССИЯ', target=1, fullname_true='ХОЛОВ АБДУАЛЙ КОБИЛЧОНОВИЧ', distance=2) [('insert', 13, 13), ('insert', 13, 14)]\n"
     ]
    }
   ],
   "source": [
    "for row in df_corrections.itertuples():\n",
    "    edit_opts = Levenshtein.editops(row.fullname, row.fullname_true)\n",
    "    num_insert = 0\n",
    "    for edit_op, from_id, to_id in edit_opts:\n",
    "        if edit_op == 'insert':\n",
    "            num_insert += 1\n",
    "    if num_insert >= 2:\n",
    "        insert_dist = abs(edit_opts[0][1] - edit_opts[1][1])\n",
    "        if insert_dist < 1:\n",
    "            print(row, edit_opts)\n",
    "        \n",
    "        "
   ]
  },
  {
   "cell_type": "code",
   "execution_count": 173,
   "metadata": {},
   "outputs": [],
   "source": [
    "fullname = \"АНДРA ВАСНЕЦОВ\"\n",
    "fullname_true = \"АНДРЕЙ ВАСНЕЦОВ\""
   ]
  },
  {
   "cell_type": "code",
   "execution_count": 174,
   "metadata": {},
   "outputs": [
    {
     "data": {
      "text/plain": [
       "[('replace', 4, 5), ('insert', 4, 4)]"
      ]
     },
     "execution_count": 174,
     "metadata": {},
     "output_type": "execute_result"
    }
   ],
   "source": [
    "sorted(Levenshtein.editops(fullname, fullname_true), key=lambda x: (x[0], -x[1]), reverse=True)"
   ]
  },
  {
   "cell_type": "code",
   "execution_count": 175,
   "metadata": {},
   "outputs": [
    {
     "data": {
      "text/plain": [
       "['', '', '', '', '', '+Е', '', '', '', '', '', '', '', '', '', '']"
      ]
     },
     "execution_count": 175,
     "metadata": {},
     "output_type": "execute_result"
    }
   ],
   "source": [
    "encode(fullname, fullname_true)"
   ]
  },
  {
   "cell_type": "code",
   "execution_count": 176,
   "metadata": {},
   "outputs": [
    {
     "data": {
      "text/plain": [
       "'АНДРЕA ВАСНЕЦОВ'"
      ]
     },
     "execution_count": 176,
     "metadata": {},
     "output_type": "execute_result"
    }
   ],
   "source": [
    "restore(fullname, encode(fullname, fullname_true))"
   ]
  },
  {
   "cell_type": "code",
   "execution_count": 170,
   "metadata": {},
   "outputs": [],
   "source": [
    "def encode(fullname, fullname_true):\n",
    "    fullname = '#' + fullname + \"#\"\n",
    "    fullname_true = '#' + fullname_true + \"#\"\n",
    "    target = [''] * len(fullname)\n",
    "    edit_opts = Levenshtein.editops(fullname, fullname_true)\n",
    "    edit_opts = sorted(edit_opts, key=lambda x: (x[0], -x[1]), reverse=True)\n",
    "    for op, src, dst in edit_opts:\n",
    "        if op == 'delete':\n",
    "            target[src] = '--'\n",
    "        if op == 'replace':\n",
    "            target[src] = fullname_true[dst]\n",
    "        if op == 'insert':\n",
    "            target[src] = '+' + fullname_true[dst]\n",
    "    return target"
   ]
  },
  {
   "cell_type": "code",
   "execution_count": 171,
   "metadata": {},
   "outputs": [],
   "source": [
    "def restore(fullname, target):\n",
    "    fullname = '#' + fullname + \"#\"\n",
    "    res = []\n",
    "    for src, tg in zip(fullname, target):\n",
    "        if tg == '':\n",
    "            res.append(src)\n",
    "        elif tg == '--':\n",
    "            pass\n",
    "        elif len(tg) ==2 and tg[0] == '+':\n",
    "            res.append(tg[1])\n",
    "            res.append(src)\n",
    "        else:\n",
    "            res.append(tg)\n",
    "    res = ''.join(res)\n",
    "    return res.strip('#')"
   ]
  },
  {
   "cell_type": "code",
   "execution_count": 172,
   "metadata": {},
   "outputs": [
    {
     "data": {
      "text/plain": [
       "(25415, 36)"
      ]
     },
     "execution_count": 172,
     "metadata": {},
     "output_type": "execute_result"
    }
   ],
   "source": [
    "true_enc = 0\n",
    "failed_enc = 0\n",
    "for row in df_corrections.itertuples():\n",
    "    if row.fullname_true == restore(row.fullname, encode(row.fullname, row.fullname_true)):\n",
    "        true_enc += 1\n",
    "    else:\n",
    "        failed_enc += 1\n",
    "true_enc, failed_enc"
   ]
  },
  {
   "cell_type": "code",
   "execution_count": null,
   "metadata": {},
   "outputs": [],
   "source": []
  }
 ],
 "metadata": {
  "kernelspec": {
   "display_name": "Python 3",
   "language": "python",
   "name": "python3"
  },
  "language_info": {
   "codemirror_mode": {
    "name": "ipython",
    "version": 3
   },
   "file_extension": ".py",
   "mimetype": "text/x-python",
   "name": "python",
   "nbconvert_exporter": "python",
   "pygments_lexer": "ipython3",
   "version": "3.6.4"
  }
 },
 "nbformat": 4,
 "nbformat_minor": 2
}
